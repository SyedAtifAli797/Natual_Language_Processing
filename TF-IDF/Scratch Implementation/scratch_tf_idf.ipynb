{
 "cells": [
  {
   "cell_type": "code",
   "execution_count": 2,
   "metadata": {},
   "outputs": [],
   "source": [
    "import pandas as pd \n",
    "import numpy as np\n",
    "import re"
   ]
  },
  {
   "cell_type": "code",
   "execution_count": 3,
   "metadata": {},
   "outputs": [],
   "source": [
    "corpus = [\n",
    "    \"It was the best of times.\",\n",
    "    \"It was the worst of times.\",\n",
    "    \"It was the age of wisdom and the age of foolishness.\"\n",
    "]"
   ]
  },
  {
   "cell_type": "code",
   "execution_count": 4,
   "metadata": {},
   "outputs": [],
   "source": [
    "def tokenize(sentence):\n",
    "    sentence = sentence.lower() \n",
    "    sentence = re.sub(r'[^\\w\\s]', '', sentence)\n",
    "    return sentence.split()"
   ]
  },
  {
   "cell_type": "markdown",
   "metadata": {},
   "source": [
    "Calculating TF\n"
   ]
  },
  {
   "cell_type": "code",
   "execution_count": 5,
   "metadata": {},
   "outputs": [],
   "source": [
    "def get_term_frequency(corpus):\n",
    "    \n",
    "    vocabulary = []\n",
    "    for c in corpus:\n",
    "        sentence = tokenize(c)\n",
    "        for word in sentence:\n",
    "            vocabulary.append(word)\n",
    "\n",
    "    vocabulary = set(vocabulary)\n",
    "    \n",
    "    term_freq = []\n",
    "    for sentence in corpus:\n",
    "        sentence_tf = dict([(v,0) for v in vocabulary])\n",
    "        for word in tokenize(sentence):\n",
    "            sentence_tf[word] += 1\n",
    "        for v in vocabulary:\n",
    "            sentence_tf[v] = sentence_tf[v]/len(tokenize(sentence))\n",
    "        term_freq.append(sentence_tf)\n",
    "        \n",
    "    return term_freq"
   ]
  },
  {
   "cell_type": "code",
   "execution_count": 6,
   "metadata": {},
   "outputs": [
    {
     "data": {
      "text/html": [
       "<div>\n",
       "<style scoped>\n",
       "    .dataframe tbody tr th:only-of-type {\n",
       "        vertical-align: middle;\n",
       "    }\n",
       "\n",
       "    .dataframe tbody tr th {\n",
       "        vertical-align: top;\n",
       "    }\n",
       "\n",
       "    .dataframe thead th {\n",
       "        text-align: right;\n",
       "    }\n",
       "</style>\n",
       "<table border=\"1\" class=\"dataframe\">\n",
       "  <thead>\n",
       "    <tr style=\"text-align: right;\">\n",
       "      <th></th>\n",
       "      <th>age</th>\n",
       "      <th>of</th>\n",
       "      <th>wisdom</th>\n",
       "      <th>worst</th>\n",
       "      <th>and</th>\n",
       "      <th>times</th>\n",
       "      <th>best</th>\n",
       "      <th>it</th>\n",
       "      <th>the</th>\n",
       "      <th>was</th>\n",
       "      <th>foolishness</th>\n",
       "    </tr>\n",
       "  </thead>\n",
       "  <tbody>\n",
       "    <tr>\n",
       "      <th>It was the best of times.</th>\n",
       "      <td>0.000000</td>\n",
       "      <td>0.166667</td>\n",
       "      <td>0.000000</td>\n",
       "      <td>0.000000</td>\n",
       "      <td>0.000000</td>\n",
       "      <td>0.166667</td>\n",
       "      <td>0.166667</td>\n",
       "      <td>0.166667</td>\n",
       "      <td>0.166667</td>\n",
       "      <td>0.166667</td>\n",
       "      <td>0.000000</td>\n",
       "    </tr>\n",
       "    <tr>\n",
       "      <th>It was the worst of times.</th>\n",
       "      <td>0.000000</td>\n",
       "      <td>0.166667</td>\n",
       "      <td>0.000000</td>\n",
       "      <td>0.166667</td>\n",
       "      <td>0.000000</td>\n",
       "      <td>0.166667</td>\n",
       "      <td>0.000000</td>\n",
       "      <td>0.166667</td>\n",
       "      <td>0.166667</td>\n",
       "      <td>0.166667</td>\n",
       "      <td>0.000000</td>\n",
       "    </tr>\n",
       "    <tr>\n",
       "      <th>It was the age of wisdom and the age of foolishness.</th>\n",
       "      <td>0.181818</td>\n",
       "      <td>0.181818</td>\n",
       "      <td>0.090909</td>\n",
       "      <td>0.000000</td>\n",
       "      <td>0.090909</td>\n",
       "      <td>0.000000</td>\n",
       "      <td>0.000000</td>\n",
       "      <td>0.090909</td>\n",
       "      <td>0.181818</td>\n",
       "      <td>0.090909</td>\n",
       "      <td>0.090909</td>\n",
       "    </tr>\n",
       "  </tbody>\n",
       "</table>\n",
       "</div>"
      ],
      "text/plain": [
       "                                                         age        of  \\\n",
       "It was the best of times.                           0.000000  0.166667   \n",
       "It was the worst of times.                          0.000000  0.166667   \n",
       "It was the age of wisdom and the age of foolish...  0.181818  0.181818   \n",
       "\n",
       "                                                      wisdom     worst  \\\n",
       "It was the best of times.                           0.000000  0.000000   \n",
       "It was the worst of times.                          0.000000  0.166667   \n",
       "It was the age of wisdom and the age of foolish...  0.090909  0.000000   \n",
       "\n",
       "                                                         and     times  \\\n",
       "It was the best of times.                           0.000000  0.166667   \n",
       "It was the worst of times.                          0.000000  0.166667   \n",
       "It was the age of wisdom and the age of foolish...  0.090909  0.000000   \n",
       "\n",
       "                                                        best        it  \\\n",
       "It was the best of times.                           0.166667  0.166667   \n",
       "It was the worst of times.                          0.000000  0.166667   \n",
       "It was the age of wisdom and the age of foolish...  0.000000  0.090909   \n",
       "\n",
       "                                                         the       was  \\\n",
       "It was the best of times.                           0.166667  0.166667   \n",
       "It was the worst of times.                          0.166667  0.166667   \n",
       "It was the age of wisdom and the age of foolish...  0.181818  0.090909   \n",
       "\n",
       "                                                    foolishness  \n",
       "It was the best of times.                              0.000000  \n",
       "It was the worst of times.                             0.000000  \n",
       "It was the age of wisdom and the age of foolish...     0.090909  "
      ]
     },
     "metadata": {},
     "output_type": "display_data"
    }
   ],
   "source": [
    "term_freq = get_term_frequency(corpus)\n",
    "df = pd.DataFrame(term_freq)\n",
    "df.index = corpus\n",
    "\n",
    "display(df)"
   ]
  },
  {
   "cell_type": "markdown",
   "metadata": {},
   "source": [
    "Calculating IDF:-"
   ]
  },
  {
   "cell_type": "code",
   "execution_count": 7,
   "metadata": {},
   "outputs": [],
   "source": [
    "def get_inverse_document_frequency(corpus):\n",
    "    vocabulary = []\n",
    "    for c in corpus:\n",
    "        sentence = tokenize(c)\n",
    "        for word in sentence:\n",
    "            vocabulary.append(word)\n",
    "\n",
    "    vocabulary = set(vocabulary)\n",
    "    \n",
    "    n = len(corpus)\n",
    "    \n",
    "    inverse_document_frequency = {}\n",
    "    for v in vocabulary:\n",
    "        num_docs = 0\n",
    "        for sentence in corpus:\n",
    "            if v in tokenize(sentence):\n",
    "                num_docs += 1\n",
    "        inverse_document_frequency[v] = np.log(n/num_docs)\n",
    "    return inverse_document_frequency"
   ]
  },
  {
   "cell_type": "code",
   "execution_count": 8,
   "metadata": {},
   "outputs": [
    {
     "data": {
      "text/plain": [
       "{'age': np.float64(1.0986122886681098),\n",
       " 'of': np.float64(0.0),\n",
       " 'wisdom': np.float64(1.0986122886681098),\n",
       " 'worst': np.float64(1.0986122886681098),\n",
       " 'and': np.float64(1.0986122886681098),\n",
       " 'times': np.float64(0.4054651081081644),\n",
       " 'best': np.float64(1.0986122886681098),\n",
       " 'it': np.float64(0.0),\n",
       " 'the': np.float64(0.0),\n",
       " 'was': np.float64(0.0),\n",
       " 'foolishness': np.float64(1.0986122886681098)}"
      ]
     },
     "execution_count": 8,
     "metadata": {},
     "output_type": "execute_result"
    }
   ],
   "source": [
    "inverse_document_frequency = get_inverse_document_frequency(corpus)\n",
    "inverse_document_frequency"
   ]
  },
  {
   "cell_type": "markdown",
   "metadata": {},
   "source": [
    "Calculating TF-IDF:-"
   ]
  },
  {
   "cell_type": "code",
   "execution_count": 9,
   "metadata": {},
   "outputs": [],
   "source": [
    "def get_tf_idf(corpus):\n",
    "    tf = get_term_frequency(corpus)\n",
    "    idf = get_inverse_document_frequency(corpus)\n",
    "    \n",
    "    tf_idf = []\n",
    "    for tf_dict in tf:\n",
    "        tf_idf_sentence = {}\n",
    "        for t, term_freq in tf_dict.items():\n",
    "            tf_idf_sentence[t] = term_freq * idf[t]\n",
    "        tf_idf.append(tf_idf_sentence)\n",
    "    \n",
    "    return tf_idf"
   ]
  },
  {
   "cell_type": "code",
   "execution_count": 10,
   "metadata": {},
   "outputs": [
    {
     "data": {
      "text/html": [
       "<div>\n",
       "<style scoped>\n",
       "    .dataframe tbody tr th:only-of-type {\n",
       "        vertical-align: middle;\n",
       "    }\n",
       "\n",
       "    .dataframe tbody tr th {\n",
       "        vertical-align: top;\n",
       "    }\n",
       "\n",
       "    .dataframe thead th {\n",
       "        text-align: right;\n",
       "    }\n",
       "</style>\n",
       "<table border=\"1\" class=\"dataframe\">\n",
       "  <thead>\n",
       "    <tr style=\"text-align: right;\">\n",
       "      <th></th>\n",
       "      <th>age</th>\n",
       "      <th>of</th>\n",
       "      <th>wisdom</th>\n",
       "      <th>worst</th>\n",
       "      <th>and</th>\n",
       "      <th>times</th>\n",
       "      <th>best</th>\n",
       "      <th>it</th>\n",
       "      <th>the</th>\n",
       "      <th>was</th>\n",
       "      <th>foolishness</th>\n",
       "    </tr>\n",
       "  </thead>\n",
       "  <tbody>\n",
       "    <tr>\n",
       "      <th>It was the best of times.</th>\n",
       "      <td>0.000000</td>\n",
       "      <td>0.0</td>\n",
       "      <td>0.000000</td>\n",
       "      <td>0.000000</td>\n",
       "      <td>0.000000</td>\n",
       "      <td>0.067578</td>\n",
       "      <td>0.183102</td>\n",
       "      <td>0.0</td>\n",
       "      <td>0.0</td>\n",
       "      <td>0.0</td>\n",
       "      <td>0.000000</td>\n",
       "    </tr>\n",
       "    <tr>\n",
       "      <th>It was the worst of times.</th>\n",
       "      <td>0.000000</td>\n",
       "      <td>0.0</td>\n",
       "      <td>0.000000</td>\n",
       "      <td>0.183102</td>\n",
       "      <td>0.000000</td>\n",
       "      <td>0.067578</td>\n",
       "      <td>0.000000</td>\n",
       "      <td>0.0</td>\n",
       "      <td>0.0</td>\n",
       "      <td>0.0</td>\n",
       "      <td>0.000000</td>\n",
       "    </tr>\n",
       "    <tr>\n",
       "      <th>It was the age of wisdom and the age of foolishness.</th>\n",
       "      <td>0.199748</td>\n",
       "      <td>0.0</td>\n",
       "      <td>0.099874</td>\n",
       "      <td>0.000000</td>\n",
       "      <td>0.099874</td>\n",
       "      <td>0.000000</td>\n",
       "      <td>0.000000</td>\n",
       "      <td>0.0</td>\n",
       "      <td>0.0</td>\n",
       "      <td>0.0</td>\n",
       "      <td>0.099874</td>\n",
       "    </tr>\n",
       "  </tbody>\n",
       "</table>\n",
       "</div>"
      ],
      "text/plain": [
       "                                                         age   of    wisdom  \\\n",
       "It was the best of times.                           0.000000  0.0  0.000000   \n",
       "It was the worst of times.                          0.000000  0.0  0.000000   \n",
       "It was the age of wisdom and the age of foolish...  0.199748  0.0  0.099874   \n",
       "\n",
       "                                                       worst       and  \\\n",
       "It was the best of times.                           0.000000  0.000000   \n",
       "It was the worst of times.                          0.183102  0.000000   \n",
       "It was the age of wisdom and the age of foolish...  0.000000  0.099874   \n",
       "\n",
       "                                                       times      best   it  \\\n",
       "It was the best of times.                           0.067578  0.183102  0.0   \n",
       "It was the worst of times.                          0.067578  0.000000  0.0   \n",
       "It was the age of wisdom and the age of foolish...  0.000000  0.000000  0.0   \n",
       "\n",
       "                                                    the  was  foolishness  \n",
       "It was the best of times.                           0.0  0.0     0.000000  \n",
       "It was the worst of times.                          0.0  0.0     0.000000  \n",
       "It was the age of wisdom and the age of foolish...  0.0  0.0     0.099874  "
      ]
     },
     "metadata": {},
     "output_type": "display_data"
    }
   ],
   "source": [
    "tf_idf = get_tf_idf(corpus)\n",
    "df = pd.DataFrame(tf_idf)\n",
    "df.index = corpus\n",
    "display(df)"
   ]
  },
  {
   "cell_type": "code",
   "execution_count": null,
   "metadata": {},
   "outputs": [],
   "source": []
  },
  {
   "cell_type": "code",
   "execution_count": null,
   "metadata": {},
   "outputs": [],
   "source": []
  }
 ],
 "metadata": {
  "kernelspec": {
   "display_name": "Python 3",
   "language": "python",
   "name": "python3"
  },
  "language_info": {
   "codemirror_mode": {
    "name": "ipython",
    "version": 3
   },
   "file_extension": ".py",
   "mimetype": "text/x-python",
   "name": "python",
   "nbconvert_exporter": "python",
   "pygments_lexer": "ipython3",
   "version": "3.12.3"
  }
 },
 "nbformat": 4,
 "nbformat_minor": 2
}
