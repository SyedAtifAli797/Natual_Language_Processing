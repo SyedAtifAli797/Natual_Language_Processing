{
 "cells": [
  {
   "cell_type": "code",
   "execution_count": 2,
   "metadata": {},
   "outputs": [],
   "source": [
    "from sklearn.feature_extraction.text import TfidfVectorizer\n",
    "import pandas as pd\n",
    "import numpy as np"
   ]
  },
  {
   "cell_type": "code",
   "execution_count": 3,
   "metadata": {},
   "outputs": [],
   "source": [
    "corpus = [\n",
    "    \"It was the best of times.\",\n",
    "    \"It was the worst of times.\",\n",
    "    \"It was the age of wisdom and the age of foolishness.\"\n",
    "]"
   ]
  },
  {
   "cell_type": "code",
   "execution_count": 4,
   "metadata": {},
   "outputs": [],
   "source": [
    "tf_idf_vectorizer = TfidfVectorizer()"
   ]
  },
  {
   "cell_type": "code",
   "execution_count": 5,
   "metadata": {},
   "outputs": [],
   "source": [
    "tf_idf_rep = tf_idf_vectorizer.fit_transform(corpus).todense()"
   ]
  },
  {
   "cell_type": "code",
   "execution_count": 6,
   "metadata": {},
   "outputs": [
    {
     "data": {
      "text/html": [
       "<div>\n",
       "<style scoped>\n",
       "    .dataframe tbody tr th:only-of-type {\n",
       "        vertical-align: middle;\n",
       "    }\n",
       "\n",
       "    .dataframe tbody tr th {\n",
       "        vertical-align: top;\n",
       "    }\n",
       "\n",
       "    .dataframe thead th {\n",
       "        text-align: right;\n",
       "    }\n",
       "</style>\n",
       "<table border=\"1\" class=\"dataframe\">\n",
       "  <thead>\n",
       "    <tr style=\"text-align: right;\">\n",
       "      <th></th>\n",
       "      <th>age</th>\n",
       "      <th>and</th>\n",
       "      <th>best</th>\n",
       "      <th>foolishness</th>\n",
       "      <th>it</th>\n",
       "      <th>of</th>\n",
       "      <th>the</th>\n",
       "      <th>times</th>\n",
       "      <th>was</th>\n",
       "      <th>wisdom</th>\n",
       "      <th>worst</th>\n",
       "    </tr>\n",
       "  </thead>\n",
       "  <tbody>\n",
       "    <tr>\n",
       "      <th>It was the best of times.</th>\n",
       "      <td>0.000000</td>\n",
       "      <td>0.000000</td>\n",
       "      <td>0.579897</td>\n",
       "      <td>0.000000</td>\n",
       "      <td>0.342496</td>\n",
       "      <td>0.342496</td>\n",
       "      <td>0.342496</td>\n",
       "      <td>0.441027</td>\n",
       "      <td>0.342496</td>\n",
       "      <td>0.000000</td>\n",
       "      <td>0.000000</td>\n",
       "    </tr>\n",
       "    <tr>\n",
       "      <th>It was the worst of times.</th>\n",
       "      <td>0.000000</td>\n",
       "      <td>0.000000</td>\n",
       "      <td>0.000000</td>\n",
       "      <td>0.000000</td>\n",
       "      <td>0.342496</td>\n",
       "      <td>0.342496</td>\n",
       "      <td>0.342496</td>\n",
       "      <td>0.441027</td>\n",
       "      <td>0.342496</td>\n",
       "      <td>0.000000</td>\n",
       "      <td>0.579897</td>\n",
       "    </tr>\n",
       "    <tr>\n",
       "      <th>It was the age of wisdom and the age of foolishness.</th>\n",
       "      <td>0.617558</td>\n",
       "      <td>0.308779</td>\n",
       "      <td>0.000000</td>\n",
       "      <td>0.308779</td>\n",
       "      <td>0.182370</td>\n",
       "      <td>0.364740</td>\n",
       "      <td>0.364740</td>\n",
       "      <td>0.000000</td>\n",
       "      <td>0.182370</td>\n",
       "      <td>0.308779</td>\n",
       "      <td>0.000000</td>\n",
       "    </tr>\n",
       "  </tbody>\n",
       "</table>\n",
       "</div>"
      ],
      "text/plain": [
       "                                                         age       and  \\\n",
       "It was the best of times.                           0.000000  0.000000   \n",
       "It was the worst of times.                          0.000000  0.000000   \n",
       "It was the age of wisdom and the age of foolish...  0.617558  0.308779   \n",
       "\n",
       "                                                        best  foolishness  \\\n",
       "It was the best of times.                           0.579897     0.000000   \n",
       "It was the worst of times.                          0.000000     0.000000   \n",
       "It was the age of wisdom and the age of foolish...  0.000000     0.308779   \n",
       "\n",
       "                                                          it        of  \\\n",
       "It was the best of times.                           0.342496  0.342496   \n",
       "It was the worst of times.                          0.342496  0.342496   \n",
       "It was the age of wisdom and the age of foolish...  0.182370  0.364740   \n",
       "\n",
       "                                                         the     times  \\\n",
       "It was the best of times.                           0.342496  0.441027   \n",
       "It was the worst of times.                          0.342496  0.441027   \n",
       "It was the age of wisdom and the age of foolish...  0.364740  0.000000   \n",
       "\n",
       "                                                         was    wisdom  \\\n",
       "It was the best of times.                           0.342496  0.000000   \n",
       "It was the worst of times.                          0.342496  0.000000   \n",
       "It was the age of wisdom and the age of foolish...  0.182370  0.308779   \n",
       "\n",
       "                                                       worst  \n",
       "It was the best of times.                           0.000000  \n",
       "It was the worst of times.                          0.579897  \n",
       "It was the age of wisdom and the age of foolish...  0.000000  "
      ]
     },
     "metadata": {},
     "output_type": "display_data"
    }
   ],
   "source": [
    "df = pd.DataFrame(tf_idf_rep)\n",
    "df.columns = tf_idf_vectorizer.get_feature_names_out()\n",
    "df.index = corpus\n",
    "display(df)"
   ]
  },
  {
   "cell_type": "code",
   "execution_count": null,
   "metadata": {},
   "outputs": [],
   "source": []
  },
  {
   "cell_type": "code",
   "execution_count": null,
   "metadata": {},
   "outputs": [],
   "source": []
  }
 ],
 "metadata": {
  "kernelspec": {
   "display_name": "Python 3",
   "language": "python",
   "name": "python3"
  },
  "language_info": {
   "codemirror_mode": {
    "name": "ipython",
    "version": 3
   },
   "file_extension": ".py",
   "mimetype": "text/x-python",
   "name": "python",
   "nbconvert_exporter": "python",
   "pygments_lexer": "ipython3",
   "version": "3.12.3"
  }
 },
 "nbformat": 4,
 "nbformat_minor": 2
}
