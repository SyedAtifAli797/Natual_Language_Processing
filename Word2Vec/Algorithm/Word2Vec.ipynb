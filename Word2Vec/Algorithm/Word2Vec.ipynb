{
 "cells": [
  {
   "cell_type": "code",
   "execution_count": 1,
   "metadata": {},
   "outputs": [],
   "source": [
    "import pandas as pd\n",
    "import numpy as np\n",
    "from gensim.models import Word2Vec"
   ]
  },
  {
   "cell_type": "code",
   "execution_count": 2,
   "metadata": {},
   "outputs": [],
   "source": [
    "sentences = [\n",
    "    \"I like this product\",\n",
    "    \"This product is great\",\n",
    "    \"I love this item\",\n",
    "    \"This is a good product\"\n",
    "]"
   ]
  },
  {
   "cell_type": "code",
   "execution_count": 3,
   "metadata": {},
   "outputs": [
    {
     "data": {
      "text/plain": [
       "[['i', 'like', 'this', 'product'],\n",
       " ['this', 'product', 'is', 'great'],\n",
       " ['i', 'love', 'this', 'item'],\n",
       " ['this', 'is', 'a', 'good', 'product']]"
      ]
     },
     "execution_count": 3,
     "metadata": {},
     "output_type": "execute_result"
    }
   ],
   "source": [
    "tokenized_sentences = [sentence.lower().split() for sentence in sentences]\n",
    "tokenized_sentences"
   ]
  },
  {
   "cell_type": "code",
   "execution_count": 4,
   "metadata": {},
   "outputs": [],
   "source": [
    "model = Word2Vec(sentences=tokenized_sentences, vector_size=3, window=2, min_count=1, sg=0)"
   ]
  },
  {
   "cell_type": "code",
   "execution_count": 5,
   "metadata": {},
   "outputs": [
    {
     "data": {
      "text/plain": [
       "['this', 'product', 'is', 'i', 'good', 'a', 'item', 'love', 'great', 'like']"
      ]
     },
     "execution_count": 5,
     "metadata": {},
     "output_type": "execute_result"
    }
   ],
   "source": [
    "model.wv.index_to_key"
   ]
  },
  {
   "cell_type": "code",
   "execution_count": 6,
   "metadata": {},
   "outputs": [
    {
     "data": {
      "text/plain": [
       "array([ 0.3003091 , -0.31009832, -0.23722696], dtype=float32)"
      ]
     },
     "execution_count": 6,
     "metadata": {},
     "output_type": "execute_result"
    }
   ],
   "source": [
    "model.wv['product']"
   ]
  },
  {
   "cell_type": "code",
   "execution_count": 7,
   "metadata": {},
   "outputs": [
    {
     "data": {
      "text/plain": [
       "array([-0.15122044,  0.21846838, -0.16200535], dtype=float32)"
      ]
     },
     "execution_count": 7,
     "metadata": {},
     "output_type": "execute_result"
    }
   ],
   "source": [
    "model.wv['good']"
   ]
  },
  {
   "cell_type": "code",
   "execution_count": 8,
   "metadata": {},
   "outputs": [
    {
     "name": "stdout",
     "output_type": "stream",
     "text": [
      "Individual Word Vectors:\n",
      "\n",
      "{'this': array([-0.01787424,  0.00788105,  0.17011166], dtype=float32)}\n",
      "{'product': array([ 0.3003091 , -0.31009832, -0.23722696], dtype=float32)}\n",
      "{'is': array([ 0.21529575,  0.2990996 , -0.16718094], dtype=float32)}\n",
      "{'i': array([-0.12544572,  0.24601682, -0.05111571], dtype=float32)}\n",
      "{'good': array([-0.15122044,  0.21846838, -0.16200535], dtype=float32)}\n",
      "{'a': array([-0.06053392,  0.09588599,  0.03306246], dtype=float32)}\n",
      "{'item': array([-0.27617383, -0.3149606 ,  0.24372554], dtype=float32)}\n",
      "{'love': array([0.16900873, 0.22525644, 0.02542885], dtype=float32)}\n",
      "{'great': array([ 0.21169634, -0.1135122 , -0.03154671], dtype=float32)}\n",
      "{'like': array([ 0.19228578, -0.25072125, -0.13120346], dtype=float32)}\n"
     ]
    }
   ],
   "source": [
    "print(\"Individual Word Vectors:\\n\")\n",
    "\n",
    "for word in model.wv.index_to_key:\n",
    "    print({word: model.wv[word] })"
   ]
  },
  {
   "cell_type": "code",
   "execution_count": 9,
   "metadata": {},
   "outputs": [],
   "source": [
    "def average_vector(sentence):\n",
    "    \n",
    "    words = sentence.lower().split()\n",
    "    vectors = [model.wv[word] for word in words if word in model.wv]\n",
    "    \n",
    "    if not vectors: \n",
    "        return np.zeros(model.vector_size)\n",
    "    \n",
    "    return np.mean(vectors, axis=0)"
   ]
  },
  {
   "cell_type": "code",
   "execution_count": 10,
   "metadata": {},
   "outputs": [],
   "source": [
    "data = {\n",
    "    'sentence': sentences,\n",
    "    'average_vector': [average_vector(sentence) for sentence in sentences],\n",
    "}"
   ]
  },
  {
   "cell_type": "code",
   "execution_count": 11,
   "metadata": {},
   "outputs": [],
   "source": [
    "df = pd.DataFrame(data)"
   ]
  },
  {
   "cell_type": "code",
   "execution_count": 12,
   "metadata": {},
   "outputs": [
    {
     "name": "stdout",
     "output_type": "stream",
     "text": [
      "Sentence Representations:\n",
      "\n",
      "                 sentence                            average_vector\n",
      "0     I like this product  [0.087318726, -0.07673043, -0.062358618]\n",
      "1   This product is great   [0.17735673, -0.029157469, -0.06646074]\n",
      "2        I love this item   [-0.062621266, 0.041048422, 0.09703758]\n",
      "3  This is a good product  [0.057195246, 0.062247343, -0.072647825]\n"
     ]
    }
   ],
   "source": [
    "print(\"Sentence Representations:\\n\")\n",
    "print(df)"
   ]
  },
  {
   "cell_type": "code",
   "execution_count": null,
   "metadata": {},
   "outputs": [],
   "source": []
  }
 ],
 "metadata": {
  "kernelspec": {
   "display_name": "Python 3",
   "language": "python",
   "name": "python3"
  },
  "language_info": {
   "codemirror_mode": {
    "name": "ipython",
    "version": 3
   },
   "file_extension": ".py",
   "mimetype": "text/x-python",
   "name": "python",
   "nbconvert_exporter": "python",
   "pygments_lexer": "ipython3",
   "version": "3.12.3"
  }
 },
 "nbformat": 4,
 "nbformat_minor": 2
}
